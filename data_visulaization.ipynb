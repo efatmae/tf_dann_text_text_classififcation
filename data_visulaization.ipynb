{
 "cells": [
  {
   "cell_type": "code",
   "execution_count": 8,
   "metadata": {
    "collapsed": false
   },
   "outputs": [],
   "source": [
    "import tensorflow as tf\n",
    "import numpy as np\n",
    "from sklearn.manifold import TSNE\n",
    "import os\n",
    "from flip_gradient import flip_gradient\n",
    "from util_pv import *\n",
    "from text_CNN_feature_extraction import TextCNN\n",
    "from tensorflow.contrib import learn\n",
    "import text_files_preprocessing as tfp\n",
    "import time\n"
   ]
  },
  {
   "cell_type": "code",
   "execution_count": 12,
   "metadata": {
    "collapsed": false
   },
   "outputs": [],
   "source": [
    "BASE_DIR = os.getcwd()"
   ]
  },
  {
   "cell_type": "code",
   "execution_count": 13,
   "metadata": {
    "collapsed": false
   },
   "outputs": [
    {
     "name": "stdout",
     "output_type": "stream",
     "text": [
      "10000\n"
     ]
    }
   ],
   "source": [
    "Amz_movies_x_text, Amz_movies_y = tfp.load_data_and_labels(os.path.join(BASE_DIR, \n",
    "    'Data/Amazon_reviews/books/pos_books.txt'), os.path.join(BASE_DIR, 'Data/Amazon_reviews/books/neg_books.txt'))\n",
    "Amz_movies_x_text = Amz_movies_x_text[:-1]\n",
    "Amz_movies_y = Amz_movies_y[:-1]\n",
    "print(len(Amz_movies_x_text))"
   ]
  },
  {
   "cell_type": "code",
   "execution_count": null,
   "metadata": {
    "collapsed": true
   },
   "outputs": [],
   "source": []
  },
  {
   "cell_type": "code",
   "execution_count": 16,
   "metadata": {
    "collapsed": false
   },
   "outputs": [
    {
     "name": "stdout",
     "output_type": "stream",
     "text": [
      "158\n"
     ]
    }
   ],
   "source": [
    "Amz_movies_AVG_document_length = sum([len(x.split(\" \")) for x in Amz_movies_x_text])// len(Amz_movies_x_text)\n",
    "print(Amz_movies_AVG_document_length)"
   ]
  },
  {
   "cell_type": "code",
   "execution_count": 17,
   "metadata": {
    "collapsed": false
   },
   "outputs": [
    {
     "name": "stdout",
     "output_type": "stream",
     "text": [
      "50000\n"
     ]
    }
   ],
   "source": [
    "# Load target domain dataset IMDB\n",
    "IMDB_x_text, IMDB_y = tfp.load_data_and_labels(os.path.join(BASE_DIR, \n",
    "'Data/Amazon_reviews/movies/pos_movies.txt'), os.path.join(BASE_DIR, 'Data/Amazon_reviews/movies/neg_movies.txt'))\n",
    "IMDB_x_text = IMDB_x_text[:-1]\n",
    "IMDB_y = IMDB_y[:-1]\n",
    "print(len(IMDB_x_text))"
   ]
  },
  {
   "cell_type": "code",
   "execution_count": 19,
   "metadata": {
    "collapsed": false
   },
   "outputs": [
    {
     "name": "stdout",
     "output_type": "stream",
     "text": [
      "188\n"
     ]
    }
   ],
   "source": [
    "IMDB_AVG_document_length = sum([len(x.split(\" \")) for x in IMDB_x_text]) // len(IMDB_x_text)\n",
    "print(IMDB_AVG_document_length)"
   ]
  },
  {
   "cell_type": "code",
   "execution_count": 20,
   "metadata": {
    "collapsed": false
   },
   "outputs": [
    {
     "name": "stdout",
     "output_type": "stream",
     "text": [
      "173\n"
     ]
    }
   ],
   "source": [
    "seq_length =(Amz_movies_AVG_document_length + IMDB_AVG_document_length) // 2\n",
    "print(seq_length)"
   ]
  },
  {
   "cell_type": "code",
   "execution_count": 21,
   "metadata": {
    "collapsed": true
   },
   "outputs": [],
   "source": [
    "vocab_processor = learn.preprocessing.VocabularyProcessor(seq_length)\n",
    "Amz_movies_x = np.array(list(vocab_processor.fit_transform(Amz_movies_x_text)))\n",
    "\n",
    "# Randomly shuffle data\n",
    "np.random.seed(10)\n",
    "shuffle_indices = np.random.permutation(np.arange(len(Amz_movies_y)))\n",
    "Amz_movies_x_shuffled = Amz_movies_x[shuffle_indices]\n",
    "Amz_movies_y_shuffled = Amz_movies_y[shuffle_indices]"
   ]
  },
  {
   "cell_type": "code",
   "execution_count": 24,
   "metadata": {
    "collapsed": false
   },
   "outputs": [
    {
     "data": {
      "text/plain": [
       "10000"
      ]
     },
     "execution_count": 24,
     "metadata": {},
     "output_type": "execute_result"
    }
   ],
   "source": [
    "len(shuffle_indices)"
   ]
  },
  {
   "cell_type": "code",
   "execution_count": null,
   "metadata": {
    "collapsed": true
   },
   "outputs": [],
   "source": []
  }
 ],
 "metadata": {
  "kernelspec": {
   "display_name": "Python 2",
   "language": "python",
   "name": "python2"
  },
  "language_info": {
   "codemirror_mode": {
    "name": "ipython",
    "version": 2
   },
   "file_extension": ".py",
   "mimetype": "text/x-python",
   "name": "python",
   "nbconvert_exporter": "python",
   "pygments_lexer": "ipython2",
   "version": "2.7.12"
  }
 },
 "nbformat": 4,
 "nbformat_minor": 0
}
