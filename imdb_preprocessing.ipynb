{
 "cells": [
  {
   "cell_type": "code",
   "execution_count": 1,
   "metadata": {
    "collapsed": false
   },
   "outputs": [],
   "source": [
    "import os\n",
    "import sys\n",
    "import numpy as np\n",
    "import pandas as pd"
   ]
  },
  {
   "cell_type": "code",
   "execution_count": 2,
   "metadata": {
    "collapsed": true
   },
   "outputs": [],
   "source": [
    "def extract_text(TEXT_DATA_DIR):\n",
    "    texts = []  # list of text samples\n",
    "    labels_index = {}  # dictionary mapping label name to numeric id\n",
    "    labels = []  # list of label ids\n",
    "    for name in sorted(os.listdir(TEXT_DATA_DIR)):\n",
    "        if name == \"neg\" or name == \"pos\":\n",
    "            path = os.path.join(TEXT_DATA_DIR, name)\n",
    "            if os.path.isdir(path):\n",
    "                label_id = len(labels_index)\n",
    "                labels_index[name] = label_id\n",
    "                for fname in sorted(os.listdir(path)):\n",
    "                    #if fname.isdigit():\n",
    "                        fpath = os.path.join(path, fname)\n",
    "                        if sys.version_info < (3,):\n",
    "                            f = open(fpath)\n",
    "                        else:\n",
    "                            f = open(fpath, encoding='latin-1')\n",
    "                        t = f.read()\n",
    "                        i = t.find('\\n\\n')  # skip header\n",
    "                        if 0 < i:\n",
    "                            t = t[i:]\n",
    "                        texts.append(t)\n",
    "                        f.close()\n",
    "                        labels.append(label_id)\n",
    "    print('Found %s texts.' % len(texts))\n",
    "    return texts, labels, labels_index"
   ]
  },
  {
   "cell_type": "code",
   "execution_count": 3,
   "metadata": {
    "collapsed": true
   },
   "outputs": [],
   "source": [
    "BASE_DIR = '/home/fatma/PhD/DeepLearning_tutorial/IMDB_sentiment_analysis_DL_Models/Data/aclImdb'\n",
    "\n",
    "New_Dir  = os.getcwd()"
   ]
  },
  {
   "cell_type": "code",
   "execution_count": 5,
   "metadata": {
    "collapsed": false
   },
   "outputs": [
    {
     "name": "stdout",
     "output_type": "stream",
     "text": [
      "Found 25000 texts.\n",
      "Found 25000 texts.\n"
     ]
    }
   ],
   "source": [
    "train_text, train_Labels, train_labels_index = extract_text(BASE_DIR + \"/train\")\n",
    "test_text, test_Labels, test_labels_index = extract_text(BASE_DIR + \"/test\")"
   ]
  },
  {
   "cell_type": "code",
   "execution_count": 6,
   "metadata": {
    "collapsed": false
   },
   "outputs": [],
   "source": [
    "movie_dic = {'text' : train_text, 'label' : train_Labels}\n",
    "train_df = pd.DataFrame.from_dict(movie_dic)"
   ]
  },
  {
   "cell_type": "code",
   "execution_count": 7,
   "metadata": {
    "collapsed": true
   },
   "outputs": [],
   "source": [
    "movie_dic = {'text' : test_text, 'label' : test_Labels}\n",
    "test_df = pd.DataFrame.from_dict(movie_dic)"
   ]
  },
  {
   "cell_type": "code",
   "execution_count": 11,
   "metadata": {
    "collapsed": false
   },
   "outputs": [],
   "source": [
    "df = pd.concat([train_df,test_df],axis=0)"
   ]
  },
  {
   "cell_type": "code",
   "execution_count": 12,
   "metadata": {
    "collapsed": false
   },
   "outputs": [
    {
     "data": {
      "text/plain": [
       "(50000, 2)"
      ]
     },
     "execution_count": 12,
     "metadata": {},
     "output_type": "execute_result"
    }
   ],
   "source": [
    "df.shape"
   ]
  },
  {
   "cell_type": "code",
   "execution_count": 13,
   "metadata": {
    "collapsed": false
   },
   "outputs": [],
   "source": [
    "with open(New_Dir + '/Data/IMDB/neg_movies.txt','wb') as f:\n",
    "    for index, row in df.iterrows():\n",
    "        if row[0]== 0:\n",
    "            f.write(row[1] + '\\n')"
   ]
  },
  {
   "cell_type": "code",
   "execution_count": 14,
   "metadata": {
    "collapsed": true
   },
   "outputs": [],
   "source": [
    "with open(New_Dir + '/Data/IMDB/pos_movies.txt','wb') as f:\n",
    "    for index, row in df.iterrows():\n",
    "        if row[0]== 1:\n",
    "            f.write(row[1] + '\\n')"
   ]
  },
  {
   "cell_type": "code",
   "execution_count": null,
   "metadata": {
    "collapsed": true
   },
   "outputs": [],
   "source": []
  }
 ],
 "metadata": {
  "kernelspec": {
   "display_name": "Python 2",
   "language": "python",
   "name": "python2"
  },
  "language_info": {
   "codemirror_mode": {
    "name": "ipython",
    "version": 2
   },
   "file_extension": ".py",
   "mimetype": "text/x-python",
   "name": "python",
   "nbconvert_exporter": "python",
   "pygments_lexer": "ipython2",
   "version": "2.7.12"
  }
 },
 "nbformat": 4,
 "nbformat_minor": 0
}
