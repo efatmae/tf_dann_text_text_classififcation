{
 "cells": [
  {
   "cell_type": "code",
   "execution_count": 4,
   "metadata": {
    "collapsed": false
   },
   "outputs": [],
   "source": [
    "from nltk.corpus import wordnet as wn"
   ]
  },
  {
   "cell_type": "code",
   "execution_count": 5,
   "metadata": {
    "collapsed": true
   },
   "outputs": [],
   "source": [
    "def syn(word, lch_threshold=2.26):\n",
    "    for net1 in wn.synsets(word):\n",
    "        for net2 in wn.all_synsets():\n",
    "            try:\n",
    "                lch = net1.lch_similarity(net2)\n",
    "            except:\n",
    "                continue\n",
    "            # The value to compare the LCH to was found empirically.\n",
    "            # (The value is very application dependent. Experiment!)\n",
    "            if lch >= lch_threshold:\n",
    "                yield (net1, net2, lch)\n"
   ]
  },
  {
   "cell_type": "code",
   "execution_count": 7,
   "metadata": {
    "collapsed": false
   },
   "outputs": [
    {
     "name": "stdout",
     "output_type": "stream",
     "text": [
      "(Synset('violence.n.01'), Synset('action.n.01'), 2.538973871058276)\n",
      "(Synset('violence.n.01'), Synset('aggression.n.03'), 2.9444389791664407)\n",
      "(Synset('violence.n.01'), Synset('meat_grinder.n.02'), 2.538973871058276)\n",
      "(Synset('violence.n.01'), Synset('violence.n.01'), 3.6375861597263857)\n",
      "(Synset('violence.n.01'), Synset('domestic_violence.n.01'), 2.9444389791664407)\n",
      "(Synset('violence.n.01'), Synset('plundering.n.01'), 2.538973871058276)\n",
      "(Synset('violence.n.01'), Synset('road_rage.n.01'), 2.9444389791664407)\n",
      "(Synset('violence.n.01'), Synset('riot.n.01'), 2.9444389791664407)\n",
      "(Synset('violence.n.01'), Synset('race_riot.n.01'), 2.538973871058276)\n",
      "(Synset('ferocity.n.01'), Synset('force.n.03'), 2.538973871058276)\n",
      "(Synset('ferocity.n.01'), Synset('intensity.n.02'), 2.9444389791664407)\n",
      "(Synset('ferocity.n.01'), Synset('badness.n.02'), 2.538973871058276)\n",
      "(Synset('ferocity.n.01'), Synset('vehemence.n.01'), 2.538973871058276)\n",
      "(Synset('ferocity.n.01'), Synset('top.n.06'), 2.538973871058276)\n",
      "(Synset('ferocity.n.01'), Synset('ferocity.n.01'), 3.6375861597263857)\n",
      "(Synset('ferocity.n.01'), Synset('savageness.n.01'), 2.9444389791664407)\n",
      "(Synset('ferocity.n.01'), Synset('degree.n.01'), 2.538973871058276)\n",
      "(Synset('violence.n.03'), Synset('disorder.n.03'), 2.538973871058276)\n",
      "(Synset('violence.n.03'), Synset('turbulence.n.03'), 2.9444389791664407)\n",
      "(Synset('violence.n.03'), Synset('agitation.n.02'), 2.538973871058276)\n",
      "(Synset('violence.n.03'), Synset('roller_coaster.n.01'), 2.538973871058276)\n",
      "(Synset('violence.n.03'), Synset('violence.n.03'), 3.6375861597263857)\n",
      "(Synset('violence.n.03'), Synset('rage.n.04'), 2.9444389791664407)\n"
     ]
    }
   ],
   "source": [
    "for x in syn('violence'):\n",
    "    print x"
   ]
  },
  {
   "cell_type": "code",
   "execution_count": null,
   "metadata": {
    "collapsed": true
   },
   "outputs": [],
   "source": []
  }
 ],
 "metadata": {
  "kernelspec": {
   "display_name": "Python 2",
   "language": "python",
   "name": "python2"
  },
  "language_info": {
   "codemirror_mode": {
    "name": "ipython",
    "version": 2
   },
   "file_extension": ".py",
   "mimetype": "text/x-python",
   "name": "python",
   "nbconvert_exporter": "python",
   "pygments_lexer": "ipython2",
   "version": "2.7.12"
  }
 },
 "nbformat": 4,
 "nbformat_minor": 0
}
